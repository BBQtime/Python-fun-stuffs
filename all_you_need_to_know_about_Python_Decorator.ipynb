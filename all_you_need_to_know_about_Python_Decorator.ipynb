{
  "nbformat": 4,
  "nbformat_minor": 0,
  "metadata": {
    "colab": {
      "name": "all you need to know about Python Decorator.ipynb",
      "version": "0.3.2",
      "provenance": [],
      "collapsed_sections": [],
      "include_colab_link": true
    },
    "kernelspec": {
      "name": "python3",
      "display_name": "Python 3"
    }
  },
  "cells": [
    {
      "cell_type": "markdown",
      "metadata": {
        "id": "view-in-github",
        "colab_type": "text"
      },
      "source": [
        "<a href=\"https://colab.research.google.com/github/BBQtime/Python-fun-stuffs/blob/master/all_you_need_to_know_about_Python_Decorator.ipynb\" target=\"_parent\"><img src=\"https://colab.research.google.com/assets/colab-badge.svg\" alt=\"Open In Colab\"/></a>"
      ]
    },
    {
      "metadata": {
        "id": "ftkhYv975aal",
        "colab_type": "code",
        "colab": {}
      },
      "cell_type": "code",
      "source": [
        ""
      ],
      "execution_count": 0,
      "outputs": []
    },
    {
      "metadata": {
        "id": "dIl0Mdg15qYu",
        "colab_type": "text"
      },
      "cell_type": "markdown",
      "source": [
        "Original topics on https://stackoverflow.com/questions/739654/how-to-make-a-chain-of-function-decorators\n",
        "\n",
        "This notebook try to replicate the anwsers with more detials. \n",
        "\n",
        "**Python functions are objects**\n",
        "\n",
        "To understand decorators, you must first understand that functiosn are objects in Python.  This has import consequences. Let's see below example:"
      ]
    },
    {
      "metadata": {
        "id": "RWdpbmjK5tUF",
        "colab_type": "code",
        "colab": {
          "base_uri": "https://localhost:8080/",
          "height": 35
        },
        "outputId": "28404561-2cfe-48c7-f4df-1142dc41a77d"
      },
      "cell_type": "code",
      "source": [
        "def shout(word = 'yes'):\n",
        "    return word.capitalize() + '!'\n",
        "\n",
        "print(shout())\n"
      ],
      "execution_count": 20,
      "outputs": [
        {
          "output_type": "stream",
          "text": [
            "Yes!\n"
          ],
          "name": "stdout"
        }
      ]
    },
    {
      "metadata": {
        "id": "_2HGjWkz6hF2",
        "colab_type": "code",
        "colab": {
          "base_uri": "https://localhost:8080/",
          "height": 73
        },
        "outputId": "355e1da2-a7e6-4226-8eb6-993268a5bcc3"
      },
      "cell_type": "code",
      "source": [
        "scream = shout\n",
        "print(scream)\n",
        "print(scream())\n",
        "scream\n"
      ],
      "execution_count": 21,
      "outputs": [
        {
          "output_type": "stream",
          "text": [
            "<function shout at 0x7f36d3d68c80>\n",
            "Yes!\n"
          ],
          "name": "stdout"
        },
        {
          "output_type": "execute_result",
          "data": {
            "text/plain": [
              "<function __main__.shout>"
            ]
          },
          "metadata": {
            "tags": []
          },
          "execution_count": 21
        }
      ]
    },
    {
      "metadata": {
        "id": "K9G3XMY88Ul5",
        "colab_type": "code",
        "colab": {}
      },
      "cell_type": "code",
      "source": [
        "del shout"
      ],
      "execution_count": 0,
      "outputs": []
    },
    {
      "metadata": {
        "id": "zgO-Neq17hKM",
        "colab_type": "code",
        "colab": {
          "base_uri": "https://localhost:8080/",
          "height": 54
        },
        "outputId": "97bb7320-2029-4a8e-ba69-a9e5cd5a9617"
      },
      "cell_type": "code",
      "source": [
        "\n",
        "try:\n",
        "    print(shout())\n",
        "except NameError as e: #python3 the raise syntax no longer accepts comma-separated arguments. Use #as instead:\n",
        "    print(e)\n",
        "    #outputs: \"name 'shout' is not defined\"\n",
        "\n",
        "print(scream())\n",
        "# outputs: 'Yes!'"
      ],
      "execution_count": 25,
      "outputs": [
        {
          "output_type": "stream",
          "text": [
            "name 'shout' is not defined\n",
            "Yes!\n"
          ],
          "name": "stdout"
        }
      ]
    },
    {
      "metadata": {
        "id": "QAnonLhF85n1",
        "colab_type": "text"
      },
      "cell_type": "markdown",
      "source": [
        "Keep this in mind. We'll circle back to it shortly. Another interesting property of Python unctions is they can be defined inside another function!"
      ]
    },
    {
      "metadata": {
        "id": "VXrx37Sh7lck",
        "colab_type": "code",
        "colab": {
          "base_uri": "https://localhost:8080/",
          "height": 54
        },
        "outputId": "21bc531e-895a-47d8-ea01-9fc8339602cc"
      },
      "cell_type": "code",
      "source": [
        "def talk():\n",
        "    \n",
        "    #you can define a function on the fly in \"talk\" ...\n",
        "    def whisper(word=\"yes\"):\n",
        "        return word.lower() +\"...\"\n",
        "    \n",
        "    print(whisper())\n",
        "    \n",
        "# You call \"talk\", that defines \"whisper\" EVERY TIME you call it, then\n",
        "# \"whisper\" is called in \"talk\". \n",
        "talk()\n",
        "\n",
        "# outputs: \n",
        "# \"yes...\"\n",
        "\n",
        "# But \"whisper\" DOES NOT EXIST outside \"talk\":\n",
        "\n",
        "try:\n",
        "    print(whisper())\n",
        "except NameError as e:\n",
        "    print(e)\n"
      ],
      "execution_count": 27,
      "outputs": [
        {
          "output_type": "stream",
          "text": [
            "yes...\n",
            "name 'whisper' is not defined\n"
          ],
          "name": "stdout"
        }
      ]
    },
    {
      "metadata": {
        "id": "mla6oFBk99V6",
        "colab_type": "text"
      },
      "cell_type": "markdown",
      "source": [
        "**Function ferences**\n",
        "Noe the fun part...\n",
        "You've seen that functions are objects. Therefore, functions:\n",
        "\n",
        "*  can be assigned to a variable\n",
        "*  can be defined in another function\n",
        "\n",
        "That means that a function can return another function\n"
      ]
    },
    {
      "metadata": {
        "id": "e3K_Q_n497Ux",
        "colab_type": "code",
        "colab": {
          "base_uri": "https://localhost:8080/",
          "height": 73
        },
        "outputId": "7c2ff0f9-25fd-4cb5-b2fc-233794549d9b"
      },
      "cell_type": "code",
      "source": [
        "def getTalk(kind=\"shout\"):\n",
        "\n",
        "    # We define functions on the fly\n",
        "    def shout(word=\"yes\"):\n",
        "        return word.capitalize()+\"!\"\n",
        "\n",
        "    def whisper(word=\"yes\") :\n",
        "        return word.lower()+\"...\";\n",
        "\n",
        "    # Then we return one of them\n",
        "    if kind == \"shout\":\n",
        "        # We don't use \"()\", we are not calling the function,\n",
        "        # we are returning the function object\n",
        "        return shout  \n",
        "    else:\n",
        "        return whisper\n",
        "\n",
        "# How do you use this strange beast?\n",
        "\n",
        "# Get the function and assign it to a variable\n",
        "talk = getTalk()      \n",
        "\n",
        "# You can see that \"talk\" is here a function object:\n",
        "print(talk)\n",
        "#outputs : <function getTalk.<locals>.shout at 0x7f36d3d24598>\n",
        "\n",
        "\n",
        "# The object is the one returned by the function:\n",
        "print(talk())\n",
        "#outputs : Yes!\n",
        "\n",
        "# And you can even use it directly if you feel wild:\n",
        "print(getTalk(\"whisper\")())\n",
        "#outputs : yes..."
      ],
      "execution_count": 28,
      "outputs": [
        {
          "output_type": "stream",
          "text": [
            "<function getTalk.<locals>.shout at 0x7f36d3d24598>\n",
            "Yes!\n",
            "yes...\n"
          ],
          "name": "stdout"
        }
      ]
    },
    {
      "metadata": {
        "id": "Z-2TEtks-yOk",
        "colab_type": "text"
      },
      "cell_type": "markdown",
      "source": [
        "There's more!\n",
        "If you can return a function, you can pass one as a parameter:\n"
      ]
    },
    {
      "metadata": {
        "id": "ZS11Cdel-221",
        "colab_type": "code",
        "colab": {
          "base_uri": "https://localhost:8080/",
          "height": 73
        },
        "outputId": "c7b14f7d-2a4a-4266-c0ec-f50b09ce6d70"
      },
      "cell_type": "code",
      "source": [
        "def doSomethingBefore(func):\n",
        "    print(\"I do something before then I call the function you gave me\")\n",
        "    print(func)\n",
        "    print(func())\n",
        "    \n",
        "doSomethingBefore(scream)"
      ],
      "execution_count": 30,
      "outputs": [
        {
          "output_type": "stream",
          "text": [
            "I do something before then I call the function you gave me\n",
            "<function shout at 0x7f36d3d68c80>\n",
            "Yes!\n"
          ],
          "name": "stdout"
        }
      ]
    },
    {
      "metadata": {
        "id": "UC0hHsPx84f6",
        "colab_type": "text"
      },
      "cell_type": "markdown",
      "source": [
        ""
      ]
    }
  ]
}